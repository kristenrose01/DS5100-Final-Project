{
 "cells": [
  {
   "cell_type": "code",
   "execution_count": 26,
   "metadata": {},
   "outputs": [],
   "source": [
    "from montecarlo import Die\n",
    "from montecarlo import Game\n",
    "from montecarlo import Analyzer\n",
    "import pandas as pd\n",
    "import numpy as np\n",
    "import random\n",
    "import matplotlib.pyplot as plt"
   ]
  },
  {
   "cell_type": "markdown",
   "metadata": {},
   "source": [
    "# Scenario 1: 2-headed coin"
   ]
  },
  {
   "cell_type": "code",
   "execution_count": 2,
   "metadata": {},
   "outputs": [],
   "source": [
    "fair_coin1 = Die(np.array(['H','T']))\n",
    "unfair_coin1 = Die(np.array(['H','T']))\n",
    "unfair_coin1.change_weight('T', 5)"
   ]
  },
  {
   "cell_type": "code",
   "execution_count": 3,
   "metadata": {},
   "outputs": [],
   "source": [
    "fair_game_list = [fair_coin1, fair_coin1, fair_coin1]\n",
    "unfair_game_list = [unfair_coin1, unfair_coin1, fair_coin1]"
   ]
  },
  {
   "cell_type": "code",
   "execution_count": 4,
   "metadata": {},
   "outputs": [],
   "source": [
    "fair_game = Game(fair_game_list)\n",
    "fair_game.play_game(1000)"
   ]
  },
  {
   "cell_type": "code",
   "execution_count": 5,
   "metadata": {},
   "outputs": [],
   "source": [
    "unfair_game = Game(unfair_game_list)\n",
    "unfair_game.play_game(1000)"
   ]
  },
  {
   "cell_type": "code",
   "execution_count": 6,
   "metadata": {},
   "outputs": [],
   "source": [
    "fair_game_analysis = Analyzer(fair_game)\n",
    "unfair_game_analysis = Analyzer(unfair_game)"
   ]
  },
  {
   "cell_type": "code",
   "execution_count": 7,
   "metadata": {},
   "outputs": [
    {
     "data": {
      "text/plain": [
       "250"
      ]
     },
     "execution_count": 7,
     "metadata": {},
     "output_type": "execute_result"
    }
   ],
   "source": [
    "fair_game_analysis.jackpot()"
   ]
  },
  {
   "cell_type": "code",
   "execution_count": 8,
   "metadata": {},
   "outputs": [
    {
     "data": {
      "text/plain": [
       "319"
      ]
     },
     "execution_count": 8,
     "metadata": {},
     "output_type": "execute_result"
    }
   ],
   "source": [
    "unfair_game_analysis.jackpot()"
   ]
  },
  {
   "cell_type": "code",
   "execution_count": 22,
   "metadata": {},
   "outputs": [
    {
     "name": "stdout",
     "output_type": "stream",
     "text": [
      "0.25\n"
     ]
    }
   ],
   "source": [
    "freq_fair_game = len(fair_game_analysis.jackpot)/1000\n",
    "print(freq_fair_game)"
   ]
  },
  {
   "cell_type": "code",
   "execution_count": 25,
   "metadata": {},
   "outputs": [
    {
     "name": "stdout",
     "output_type": "stream",
     "text": [
      "0.319\n"
     ]
    }
   ],
   "source": [
    "freq_unfair_game = len(unfair_game_analysis.jackpot)/1000\n",
    "print(freq_unfair_game)"
   ]
  },
  {
   "cell_type": "code",
   "execution_count": 35,
   "metadata": {},
   "outputs": [
    {
     "data": {
      "text/html": [
       "<div>\n",
       "<style scoped>\n",
       "    .dataframe tbody tr th:only-of-type {\n",
       "        vertical-align: middle;\n",
       "    }\n",
       "\n",
       "    .dataframe tbody tr th {\n",
       "        vertical-align: top;\n",
       "    }\n",
       "\n",
       "    .dataframe thead th {\n",
       "        text-align: right;\n",
       "    }\n",
       "</style>\n",
       "<table border=\"1\" class=\"dataframe\">\n",
       "  <thead>\n",
       "    <tr style=\"text-align: right;\">\n",
       "      <th></th>\n",
       "      <th>Game Played</th>\n",
       "      <th>Relative Frequency of Jackpots</th>\n",
       "    </tr>\n",
       "  </thead>\n",
       "  <tbody>\n",
       "    <tr>\n",
       "      <th>0</th>\n",
       "      <td>Fair Game</td>\n",
       "      <td>0.250</td>\n",
       "    </tr>\n",
       "    <tr>\n",
       "      <th>1</th>\n",
       "      <td>Unfair Game</td>\n",
       "      <td>0.319</td>\n",
       "    </tr>\n",
       "  </tbody>\n",
       "</table>\n",
       "</div>"
      ],
      "text/plain": [
       "   Game Played  Relative Frequency of Jackpots\n",
       "0    Fair Game                           0.250\n",
       "1  Unfair Game                           0.319"
      ]
     },
     "execution_count": 35,
     "metadata": {},
     "output_type": "execute_result"
    }
   ],
   "source": [
    "df = pd.DataFrame({'Game Played': ['Fair Game', 'Unfair Game'], 'Relative Frequency of Jackpots': [freq_fair_game, freq_unfair_game]})\n",
    "df"
   ]
  },
  {
   "cell_type": "code",
   "execution_count": 37,
   "metadata": {},
   "outputs": [
    {
     "data": {
      "image/png": "[encoded data removed]",
      "text/plain": [
       "<Figure size 432x288 with 1 Axes>"
      ]
     },
     "metadata": {
      "needs_background": "light"
     },
     "output_type": "display_data"
    }
   ],
   "source": [
    "fig, ax = plt.subplots()\n",
    "df.plot.bar(x = 'Game Played', y = 'Relative Frequency of Jackpots', rot = 40, ax = ax);"
   ]
  },
  {
   "cell_type": "markdown",
   "metadata": {},
   "source": [
    "# Scenario 2: 6-sided die"
   ]
  },
  {
   "cell_type": "code",
   "execution_count": 11,
   "metadata": {},
   "outputs": [],
   "source": [
    "fair_die1 = Die(np.array([1,2,3,4,5,6]))\n",
    "unfair_die1 = Die(np.array([1,2,3,4,5,6]))\n",
    "unfair_die2 = Die(np.array([1,2,3,4,5,6]))"
   ]
  },
  {
   "cell_type": "code",
   "execution_count": 12,
   "metadata": {},
   "outputs": [],
   "source": [
    "unfair_die1.change_weight(6, 5)\n",
    "unfair_die2.change_weight(1, 5)"
   ]
  },
  {
   "cell_type": "code",
   "execution_count": 13,
   "metadata": {},
   "outputs": [],
   "source": [
    "game1_list = [fair_die1, fair_die1, fair_die1, fair_die1, fair_die1]\n",
    "game2_list = [unfair_die1, unfair_die1, unfair_die2, fair_die1, fair_die1]"
   ]
  },
  {
   "cell_type": "code",
   "execution_count": 14,
   "metadata": {},
   "outputs": [],
   "source": [
    "game1 = Game(game1_list)\n",
    "game1.play_game(10000)"
   ]
  },
  {
   "cell_type": "code",
   "execution_count": 15,
   "metadata": {},
   "outputs": [],
   "source": [
    "game2 = Game(game2_list)\n",
    "game2.play_game(10000)"
   ]
  },
  {
   "cell_type": "code",
   "execution_count": 16,
   "metadata": {},
   "outputs": [],
   "source": [
    "game1_analysis = Analyzer(game1)\n",
    "game2_analysis = Analyzer(game2)"
   ]
  },
  {
   "cell_type": "code",
   "execution_count": 17,
   "metadata": {},
   "outputs": [
    {
     "data": {
      "text/plain": [
       "4"
      ]
     },
     "execution_count": 17,
     "metadata": {},
     "output_type": "execute_result"
    }
   ],
   "source": [
    "game1_analysis.jackpot()"
   ]
  },
  {
   "cell_type": "code",
   "execution_count": 18,
   "metadata": {},
   "outputs": [
    {
     "data": {
      "text/plain": [
       "10"
      ]
     },
     "execution_count": 18,
     "metadata": {},
     "output_type": "execute_result"
    }
   ],
   "source": [
    "game2_analysis.jackpot()"
   ]
  },
  {
   "cell_type": "code",
   "execution_count": 38,
   "metadata": {},
   "outputs": [
    {
     "name": "stdout",
     "output_type": "stream",
     "text": [
      "0.0004\n"
     ]
    }
   ],
   "source": [
    "freq_game1 = len(game1_analysis.jackpot)/10000\n",
    "print(freq_game1)"
   ]
  },
  {
   "cell_type": "code",
   "execution_count": 39,
   "metadata": {},
   "outputs": [
    {
     "name": "stdout",
     "output_type": "stream",
     "text": [
      "0.001\n"
     ]
    }
   ],
   "source": [
    "freq_game2 = len(game2_analysis.jackpot)/10000\n",
    "print(freq_game2)"
   ]
  },
  {
   "cell_type": "code",
   "execution_count": 40,
   "metadata": {},
   "outputs": [
    {
     "data": {
      "text/html": [
       "<div>\n",
       "<style scoped>\n",
       "    .dataframe tbody tr th:only-of-type {\n",
       "        vertical-align: middle;\n",
       "    }\n",
       "\n",
       "    .dataframe tbody tr th {\n",
       "        vertical-align: top;\n",
       "    }\n",
       "\n",
       "    .dataframe thead th {\n",
       "        text-align: right;\n",
       "    }\n",
       "</style>\n",
       "<table border=\"1\" class=\"dataframe\">\n",
       "  <thead>\n",
       "    <tr style=\"text-align: right;\">\n",
       "      <th></th>\n",
       "      <th>Game Played</th>\n",
       "      <th>Relative Frequency of Jackpots</th>\n",
       "    </tr>\n",
       "  </thead>\n",
       "  <tbody>\n",
       "    <tr>\n",
       "      <th>0</th>\n",
       "      <td>Fair Game</td>\n",
       "      <td>0.0004</td>\n",
       "    </tr>\n",
       "    <tr>\n",
       "      <th>1</th>\n",
       "      <td>Unfair Game</td>\n",
       "      <td>0.0010</td>\n",
       "    </tr>\n",
       "  </tbody>\n",
       "</table>\n",
       "</div>"
      ],
      "text/plain": [
       "   Game Played  Relative Frequency of Jackpots\n",
       "0    Fair Game                          0.0004\n",
       "1  Unfair Game                          0.0010"
      ]
     },
     "execution_count": 40,
     "metadata": {},
     "output_type": "execute_result"
    }
   ],
   "source": [
    "df2 = pd.DataFrame({'Game Played': ['Fair Game', 'Unfair Game'], 'Relative Frequency of Jackpots': [freq_game1, freq_game2]})\n",
    "df2"
   ]
  },
  {
   "cell_type": "code",
   "execution_count": 41,
   "metadata": {},
   "outputs": [
    {
     "data": {
      "image/png": "[encoded data removed]",
      "text/plain": [
       "<Figure size 432x288 with 1 Axes>"
      ]
     },
     "metadata": {
      "needs_background": "light"
     },
     "output_type": "display_data"
    }
   ],
   "source": [
    "fig, ax = plt.subplots()\n",
    "df2.plot.bar(x = 'Game Played', y = 'Relative Frequency of Jackpots', rot = 40, ax = ax);"
   ]
  },
  {
   "cell_type": "markdown",
   "metadata": {},
   "source": [
    "FINISH PART 5"
   ]
  },
  {
   "cell_type": "markdown",
   "metadata": {},
   "source": [
    "# Scenario 3: Roman Alphabet"
   ]
  },
  {
   "cell_type": "code",
   "execution_count": 47,
   "metadata": {},
   "outputs": [],
   "source": [
    "letter_die = Die(np.array(['A','B','C','D','E','F','G','H','I','J','K','L','M','N','O','P','Q','R','S','T','U','V','W','X','Y','Z']))"
   ]
  },
  {
   "cell_type": "code",
   "execution_count": 50,
   "metadata": {},
   "outputs": [],
   "source": [
    "letter_die.change_weight('A', 8.4966)\n",
    "letter_die.change_weight('B', 2.0720)\n",
    "letter_die.change_weight('C', 4.5388)\n",
    "letter_die.change_weight('D', 3.3844)\n",
    "letter_die.change_weight('E', 11.1607)\n",
    "letter_die.change_weight('F', 1.8121)\n",
    "letter_die.change_weight('G', 2.4705)\n",
    "letter_die.change_weight('H', 3.0034)\n",
    "letter_die.change_weight('I', 7.5448)\n",
    "letter_die.change_weight('J', 0.1965)\n",
    "letter_die.change_weight('K', 1.1016)\n",
    "letter_die.change_weight('L', 5.4893)\n",
    "letter_die.change_weight('M', 3.0129)\n",
    "letter_die.change_weight('N', 6.6544)\n",
    "letter_die.change_weight('O', 7.1635)\n",
    "letter_die.change_weight('P', 3.1671)\n",
    "letter_die.change_weight('Q', 0.1962)\n",
    "letter_die.change_weight('R', 7.5809)\n",
    "letter_die.change_weight('S', 5.7351)\n",
    "letter_die.change_weight('T', 6.9509)\n",
    "letter_die.change_weight('U', 3.6308)\n",
    "letter_die.change_weight('V', 1.0074)\n",
    "letter_die.change_weight('W', 1.2899)\n",
    "letter_die.change_weight('X', 0.2902)\n",
    "letter_die.change_weight('Y', 1.7779)\n",
    "letter_die.change_weight('Z', 0.2722)"
   ]
  },
  {
   "cell_type": "code",
   "execution_count": 51,
   "metadata": {},
   "outputs": [],
   "source": [
    "list_letter_die = [letter_die, letter_die, letter_die, letter_die, letter_die]"
   ]
  },
  {
   "cell_type": "code",
   "execution_count": 53,
   "metadata": {},
   "outputs": [],
   "source": [
    "letter_game = Game(list_letter_die)\n",
    "letter_game.play_game(1000)"
   ]
  },
  {
   "cell_type": "code",
   "execution_count": null,
   "metadata": {},
   "outputs": [],
   "source": []
  }
 ],
 "metadata": {
  "kernelspec": {
   "display_name": "Python 3",
   "language": "python",
   "name": "python3"
  },
  "language_info": {
   "codemirror_mode": {
    "name": "ipython",
    "version": 3
   },
   "file_extension": ".py",
   "mimetype": "text/x-python",
   "name": "python",
   "nbconvert_exporter": "python",
   "pygments_lexer": "ipython3",
   "version": "3.8.8"
  }
 },
 "nbformat": 4,
 "nbformat_minor": 4
}
