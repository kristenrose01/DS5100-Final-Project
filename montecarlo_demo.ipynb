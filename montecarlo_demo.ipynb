{
 "cells": [
  {
   "cell_type": "code",
   "execution_count": 1,
   "metadata": {},
   "outputs": [],
   "source": [
    "from montecarlo.montecarlo import Die\n",
    "from montecarlo.montecarlo import Game\n",
    "from montecarlo.montecarlo import Analyzer\n",
    "import pandas as pd\n",
    "import numpy as np\n",
    "import random\n",
    "import matplotlib.pyplot as plt"
   ]
  },
  {
   "cell_type": "markdown",
   "metadata": {},
   "source": [
    "# Scenario 1: 2-headed coin"
   ]
  },
  {
   "cell_type": "code",
   "execution_count": null,
   "metadata": {},
   "outputs": [],
   "source": [
    "fair_coin1 = Die(np.array(['H','T']))\n",
    "unfair_coin1 = Die(np.array(['H','T']))\n",
    "unfair_coin1.change_weight('T', 5)"
   ]
  },
  {
   "cell_type": "code",
   "execution_count": null,
   "metadata": {},
   "outputs": [],
   "source": [
    "fair_game_list = [fair_coin1, fair_coin1, fair_coin1]\n",
    "unfair_game_list = [unfair_coin1, unfair_coin1, fair_coin1]"
   ]
  },
  {
   "cell_type": "code",
   "execution_count": null,
   "metadata": {},
   "outputs": [],
   "source": [
    "fair_game = Game(fair_game_list)\n",
    "fair_game.play_game(1000)"
   ]
  },
  {
   "cell_type": "code",
   "execution_count": null,
   "metadata": {},
   "outputs": [],
   "source": [
    "unfair_game = Game(unfair_game_list)\n",
    "unfair_game.play_game(1000)"
   ]
  },
  {
   "cell_type": "code",
   "execution_count": null,
   "metadata": {},
   "outputs": [],
   "source": [
    "fair_game_analysis = Analyzer(fair_game)\n",
    "unfair_game_analysis = Analyzer(unfair_game)"
   ]
  },
  {
   "cell_type": "code",
   "execution_count": null,
   "metadata": {},
   "outputs": [],
   "source": [
    "fair_game_analysis.jackpot()"
   ]
  },
  {
   "cell_type": "code",
   "execution_count": null,
   "metadata": {},
   "outputs": [],
   "source": [
    "unfair_game_analysis.jackpot()"
   ]
  },
  {
   "cell_type": "code",
   "execution_count": null,
   "metadata": {},
   "outputs": [],
   "source": [
    "freq_fair_game = len(fair_game_analysis.jackpot)/1000\n",
    "print(freq_fair_game)"
   ]
  },
  {
   "cell_type": "code",
   "execution_count": null,
   "metadata": {},
   "outputs": [],
   "source": [
    "freq_unfair_game = len(unfair_game_analysis.jackpot)/1000\n",
    "print(freq_unfair_game)"
   ]
  },
  {
   "cell_type": "code",
   "execution_count": null,
   "metadata": {},
   "outputs": [],
   "source": [
    "df = pd.DataFrame({'Game Played': ['Fair Game', 'Unfair Game'], 'Relative Frequency of Jackpots': [freq_fair_game, freq_unfair_game]})\n",
    "df"
   ]
  },
  {
   "cell_type": "code",
   "execution_count": null,
   "metadata": {},
   "outputs": [],
   "source": [
    "fig, ax = plt.subplots()\n",
    "df.plot.bar(x = 'Game Played', y = 'Relative Frequency of Jackpots', rot = 40, ax = ax);"
   ]
  },
  {
   "cell_type": "markdown",
   "metadata": {},
   "source": [
    "# Scenario 2: 6-sided die"
   ]
  },
  {
   "cell_type": "code",
   "execution_count": null,
   "metadata": {},
   "outputs": [],
   "source": [
    "fair_die1 = Die(np.array([1,2,3,4,5,6]))\n",
    "unfair_die1 = Die(np.array([1,2,3,4,5,6]))\n",
    "unfair_die2 = Die(np.array([1,2,3,4,5,6]))"
   ]
  },
  {
   "cell_type": "code",
   "execution_count": null,
   "metadata": {},
   "outputs": [],
   "source": [
    "unfair_die1.change_weight(6, 5)\n",
    "unfair_die2.change_weight(1, 5)"
   ]
  },
  {
   "cell_type": "code",
   "execution_count": null,
   "metadata": {},
   "outputs": [],
   "source": [
    "game1_list = [fair_die1, fair_die1, fair_die1, fair_die1, fair_die1]\n",
    "game2_list = [unfair_die1, unfair_die1, unfair_die2, fair_die1, fair_die1]"
   ]
  },
  {
   "cell_type": "code",
   "execution_count": null,
   "metadata": {},
   "outputs": [],
   "source": [
    "game1 = Game(game1_list)\n",
    "game1.play_game(10000)"
   ]
  },
  {
   "cell_type": "code",
   "execution_count": null,
   "metadata": {},
   "outputs": [],
   "source": [
    "game2 = Game(game2_list)\n",
    "game2.play_game(10000)"
   ]
  },
  {
   "cell_type": "code",
   "execution_count": null,
   "metadata": {},
   "outputs": [],
   "source": [
    "game1_analysis = Analyzer(game1)\n",
    "game2_analysis = Analyzer(game2)"
   ]
  },
  {
   "cell_type": "code",
   "execution_count": null,
   "metadata": {},
   "outputs": [],
   "source": [
    "game1_analysis.jackpot()"
   ]
  },
  {
   "cell_type": "code",
   "execution_count": null,
   "metadata": {},
   "outputs": [],
   "source": [
    "game2_analysis.jackpot()"
   ]
  },
  {
   "cell_type": "code",
   "execution_count": null,
   "metadata": {},
   "outputs": [],
   "source": [
    "freq_game1 = len(game1_analysis.jackpot)/10000\n",
    "print(freq_game1)"
   ]
  },
  {
   "cell_type": "code",
   "execution_count": null,
   "metadata": {},
   "outputs": [],
   "source": [
    "freq_game2 = len(game2_analysis.jackpot)/10000\n",
    "print(freq_game2)"
   ]
  },
  {
   "cell_type": "code",
   "execution_count": null,
   "metadata": {},
   "outputs": [],
   "source": [
    "df2 = pd.DataFrame({'Game Played': ['Fair Game', 'Unfair Game'], 'Relative Frequency of Jackpots': [freq_game1, freq_game2]})\n",
    "df2"
   ]
  },
  {
   "cell_type": "code",
   "execution_count": null,
   "metadata": {},
   "outputs": [],
   "source": [
    "fig, ax = plt.subplots()\n",
    "df2.plot.bar(x = 'Game Played', y = 'Relative Frequency of Jackpots', rot = 40, ax = ax);"
   ]
  },
  {
   "cell_type": "code",
   "execution_count": null,
   "metadata": {},
   "outputs": [],
   "source": [
    "game1_analysis.combo()"
   ]
  },
  {
   "cell_type": "code",
   "execution_count": null,
   "metadata": {},
   "outputs": [],
   "source": [
    "game2_analysis.combo()"
   ]
  },
  {
   "cell_type": "code",
   "execution_count": null,
   "metadata": {},
   "outputs": [],
   "source": [
    "df3 = game1_analysis.combo.sort_values(by='n',ascending=False).head(n=10)\n",
    "lst_die = list(df3.index.values)\n",
    "lst_counts = list()\n",
    "df4 = df3.reset_index()\n",
    "for i in range(len(df4)):\n",
    "    lst_counts.append(df4['n'][i])\n",
    "graph_df = pd.DataFrame({'Die Combination':lst_die, 'Counts':lst_counts})"
   ]
  },
  {
   "cell_type": "code",
   "execution_count": null,
   "metadata": {},
   "outputs": [],
   "source": [
    "fig, ax = plt.subplots()\n",
    "plt1 = graph_df.plot.bar(x = 'Die Combination', y = 'Counts', rot = 40, ax = ax);\n",
    "plt1.set_xlabel('Most Frequent Die Combinations');"
   ]
  },
  {
   "cell_type": "code",
   "execution_count": null,
   "metadata": {},
   "outputs": [],
   "source": [
    "df5 = game2_analysis.combo.sort_values(by='n',ascending=False).head(n=10)\n",
    "lst_die2 = list(df5.index.values)\n",
    "lst_counts2 = list()\n",
    "df6 = df5.reset_index()\n",
    "for i in range(len(df6)):\n",
    "    lst_counts2.append(df6['n'][i])\n",
    "graph_df2 = pd.DataFrame({'Die Combination':lst_die2, 'Counts':lst_counts2})"
   ]
  },
  {
   "cell_type": "code",
   "execution_count": null,
   "metadata": {},
   "outputs": [],
   "source": [
    "fig, ax = plt.subplots()\n",
    "plt2 = graph_df2.plot.bar(x = 'Die Combination', y = 'Counts', rot = 40, ax = ax)\n",
    "plt2.set_xlabel('Most Frequent Die Combinations');"
   ]
  },
  {
   "cell_type": "markdown",
   "metadata": {},
   "source": [
    "# Scenario 3: Roman Alphabet"
   ]
  },
  {
   "cell_type": "code",
   "execution_count": null,
   "metadata": {},
   "outputs": [],
   "source": [
    "letter_die = Die(np.array(['A','B','C','D','E','F','G','H','I','J','K','L','M','N','O','P','Q','R','S','T','U','V','W','X','Y','Z']))"
   ]
  },
  {
   "cell_type": "code",
   "execution_count": null,
   "metadata": {},
   "outputs": [],
   "source": [
    "letter_die.change_weight('A', 8.4966)\n",
    "letter_die.change_weight('B', 2.0720)\n",
    "letter_die.change_weight('C', 4.5388)\n",
    "letter_die.change_weight('D', 3.3844)\n",
    "letter_die.change_weight('E', 11.1607)\n",
    "letter_die.change_weight('F', 1.8121)\n",
    "letter_die.change_weight('G', 2.4705)\n",
    "letter_die.change_weight('H', 3.0034)\n",
    "letter_die.change_weight('I', 7.5448)\n",
    "letter_die.change_weight('J', 0.1965)\n",
    "letter_die.change_weight('K', 1.1016)\n",
    "letter_die.change_weight('L', 5.4893)\n",
    "letter_die.change_weight('M', 3.0129)\n",
    "letter_die.change_weight('N', 6.6544)\n",
    "letter_die.change_weight('O', 7.1635)\n",
    "letter_die.change_weight('P', 3.1671)\n",
    "letter_die.change_weight('Q', 0.1962)\n",
    "letter_die.change_weight('R', 7.5809)\n",
    "letter_die.change_weight('S', 5.7351)\n",
    "letter_die.change_weight('T', 6.9509)\n",
    "letter_die.change_weight('U', 3.6308)\n",
    "letter_die.change_weight('V', 1.0074)\n",
    "letter_die.change_weight('W', 1.2899)\n",
    "letter_die.change_weight('X', 0.2902)\n",
    "letter_die.change_weight('Y', 1.7779)\n",
    "letter_die.change_weight('Z', 0.2722)"
   ]
  },
  {
   "cell_type": "code",
   "execution_count": null,
   "metadata": {},
   "outputs": [],
   "source": [
    "list_letter_die = [letter_die, letter_die, letter_die, letter_die, letter_die]"
   ]
  },
  {
   "cell_type": "code",
   "execution_count": null,
   "metadata": {},
   "outputs": [],
   "source": [
    "letter_game = Game(list_letter_die)\n",
    "letter_game.play_game(1000)"
   ]
  },
  {
   "cell_type": "code",
   "execution_count": null,
   "metadata": {},
   "outputs": [],
   "source": [
    "results = letter_game.show_results()"
   ]
  },
  {
   "cell_type": "code",
   "execution_count": null,
   "metadata": {},
   "outputs": [],
   "source": [
    "# Sample 1\n",
    "results.sample(n=10)"
   ]
  },
  {
   "cell_type": "code",
   "execution_count": null,
   "metadata": {},
   "outputs": [],
   "source": [
    "word_count = 0"
   ]
  },
  {
   "cell_type": "code",
   "execution_count": null,
   "metadata": {},
   "outputs": [],
   "source": [
    "# Sample 2\n",
    "results.sample(n=10)"
   ]
  },
  {
   "cell_type": "code",
   "execution_count": null,
   "metadata": {},
   "outputs": [],
   "source": [
    "word_count += 0"
   ]
  },
  {
   "cell_type": "code",
   "execution_count": null,
   "metadata": {},
   "outputs": [],
   "source": [
    "# Sample 3\n",
    "results.sample(n=10)"
   ]
  },
  {
   "cell_type": "code",
   "execution_count": null,
   "metadata": {},
   "outputs": [],
   "source": [
    "word_count += 0"
   ]
  },
  {
   "cell_type": "code",
   "execution_count": null,
   "metadata": {},
   "outputs": [],
   "source": [
    "# Sample 4\n",
    "results.sample(n=10)"
   ]
  },
  {
   "cell_type": "code",
   "execution_count": null,
   "metadata": {},
   "outputs": [],
   "source": [
    "word_count += 0"
   ]
  },
  {
   "cell_type": "code",
   "execution_count": null,
   "metadata": {},
   "outputs": [],
   "source": [
    "# Sample 5\n",
    "results.sample(n=10)"
   ]
  },
  {
   "cell_type": "code",
   "execution_count": null,
   "metadata": {},
   "outputs": [],
   "source": [
    "word_count += 0"
   ]
  },
  {
   "cell_type": "code",
   "execution_count": null,
   "metadata": {},
   "outputs": [],
   "source": [
    "# Sample 6\n",
    "results.sample(n=10)"
   ]
  },
  {
   "cell_type": "code",
   "execution_count": null,
   "metadata": {},
   "outputs": [],
   "source": [
    "word_count += 0"
   ]
  },
  {
   "cell_type": "code",
   "execution_count": null,
   "metadata": {},
   "outputs": [],
   "source": [
    "# Sample 7\n",
    "results.sample(n=10)"
   ]
  },
  {
   "cell_type": "code",
   "execution_count": null,
   "metadata": {},
   "outputs": [],
   "source": [
    "word_count += 0"
   ]
  },
  {
   "cell_type": "code",
   "execution_count": null,
   "metadata": {},
   "outputs": [],
   "source": [
    "# Sample 8\n",
    "results.sample(n=10)"
   ]
  },
  {
   "cell_type": "code",
   "execution_count": null,
   "metadata": {},
   "outputs": [],
   "source": [
    "word_count += 0"
   ]
  },
  {
   "cell_type": "code",
   "execution_count": null,
   "metadata": {},
   "outputs": [],
   "source": [
    "# Sample 9\n",
    "results.sample(n=10)"
   ]
  },
  {
   "cell_type": "code",
   "execution_count": null,
   "metadata": {},
   "outputs": [],
   "source": [
    "word_count += 0"
   ]
  },
  {
   "cell_type": "code",
   "execution_count": null,
   "metadata": {},
   "outputs": [],
   "source": [
    "# Sample 10\n",
    "results.sample(n=10)"
   ]
  },
  {
   "cell_type": "code",
   "execution_count": null,
   "metadata": {},
   "outputs": [],
   "source": [
    "word_count += 0"
   ]
  },
  {
   "cell_type": "code",
   "execution_count": null,
   "metadata": {},
   "outputs": [],
   "source": [
    "estimate = word_count/100\n",
    "print(f\"Based on the 10 random samples above, the estimated percent of English words in the data is {estimate}%\")"
   ]
  }
 ],
 "metadata": {
  "kernelspec": {
   "display_name": "Python 3",
   "language": "python",
   "name": "python3"
  },
  "language_info": {
   "codemirror_mode": {
    "name": "ipython",
    "version": 3
   },
   "file_extension": ".py",
   "mimetype": "text/x-python",
   "name": "python",
   "nbconvert_exporter": "python",
   "pygments_lexer": "ipython3",
   "version": "3.8.8"
  }
 },
 "nbformat": 4,
 "nbformat_minor": 4
}
